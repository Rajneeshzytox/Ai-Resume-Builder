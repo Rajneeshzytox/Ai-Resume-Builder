{
  "nbformat": 4,
  "nbformat_minor": 0,
  "metadata": {
    "colab": {
      "provenance": [],
      "authorship_tag": "ABX9TyNfga9usQ3rJikQeFeQ4frp",
      "include_colab_link": true
    },
    "kernelspec": {
      "name": "python3",
      "display_name": "Python 3"
    },
    "language_info": {
      "name": "python"
    }
  },
  "cells": [
    {
      "cell_type": "markdown",
      "metadata": {
        "id": "view-in-github",
        "colab_type": "text"
      },
      "source": [
        "<a href=\"https://colab.research.google.com/github/Rajneeshzytox/Ai-Resume-Builder/blob/main/SimpleChatApp.ipynb\" target=\"_parent\"><img src=\"https://colab.research.google.com/assets/colab-badge.svg\" alt=\"Open In Colab\"/></a>"
      ]
    },
    {
      "cell_type": "markdown",
      "source": [
        "# A Simple Chat App Using Gemini Api,\n",
        "get responses based on previous inputs,"
      ],
      "metadata": {
        "id": "2VCv0VOXLZj9"
      }
    },
    {
      "cell_type": "code",
      "source": [
        "import google.generativeai as genai"
      ],
      "metadata": {
        "id": "0Y8kXlEcLwV9"
      },
      "execution_count": null,
      "outputs": []
    },
    {
      "cell_type": "code",
      "source": [
        "# set Api key in colab `GOOGLE_API_KEY` or\n",
        "from google.colab import userdata\n",
        "GOOGLE_API_KEY = userdata.get('GOOGLE_API_KEY')\n",
        "\n",
        "# configure api key\n",
        "genai.configure(api_key=GOOGLE_API_KEY)"
      ],
      "metadata": {
        "id": "0rF_hzMTL3st"
      },
      "execution_count": null,
      "outputs": []
    },
    {
      "cell_type": "code",
      "source": [
        "# choose a model\n",
        "model = genai.GenerativeModel('gemini-1.5-flash')\n",
        "# model = genai.GenerativeModel('gemini-pro')"
      ],
      "metadata": {
        "id": "Ew8-8VEpMLIl"
      },
      "execution_count": null,
      "outputs": []
    },
    {
      "cell_type": "code",
      "source": [
        "# set initial prompt\n",
        "prompt_engg = 'Hi, my name is Rajneesh. You are a tutor of python, your role is to teach me python basics in easy way'\n",
        "\n",
        "chat = model.start_chat(\n",
        "    history = [\n",
        "        {\"role\": \"user\", \"parts\": prompt_engg},\n",
        "        {\"role\": \"model\", \"parts\": \"Hi, Rajneesh, I am your tutor, Lets start Python. Ask me about anything\"},\n",
        "    ]\n",
        ")"
      ],
      "metadata": {
        "id": "_QBA904ZMWgG"
      },
      "execution_count": null,
      "outputs": []
    },
    {
      "cell_type": "code",
      "source": [
        "# chat loop\n",
        "while(1):\n",
        "  print(f\"{'simple chat app':-^80}\")\n",
        "  print(\"enter `stop` to stop\")\n",
        "  print(\"\\n\")\n",
        "  usr_input = input('>>>  ')\n",
        "  if(usr_input.lower() == 'stop'):\n",
        "    break\n",
        "  else:\n",
        "    try:\n",
        "      res = chat.send_message(\n",
        "          usr_input,\n",
        "          stream=True,\n",
        "          generation_config = genai.GenerationConfig(\n",
        "              max_output_tokens = 500,\n",
        "              temperature = 1.3\n",
        "          )\n",
        "      )\n",
        "\n",
        "      for i in res:\n",
        "        print(i.text, end='')\n",
        "      print()\n",
        "\n",
        "    except:\n",
        "      print('something wrong')\n",
        "      break"
      ],
      "metadata": {
        "colab": {
          "base_uri": "https://localhost:8080/"
        },
        "id": "5D8tTzG2NLLe",
        "outputId": "ee187e98-0e1c-4b49-ac20-a2da2c46c95d"
      },
      "execution_count": null,
      "outputs": [
        {
          "name": "stdout",
          "output_type": "stream",
          "text": [
            "--------------------------------simple chat app---------------------------------\n",
            "enter `stop` to stop\n",
            "\n",
            "\n",
            ">>>  stop\n"
          ]
        }
      ]
    }
  ]
}